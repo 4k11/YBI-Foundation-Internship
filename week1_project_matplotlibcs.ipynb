{
  "nbformat": 4,
  "nbformat_minor": 0,
  "metadata": {
    "colab": {
      "name": "week1_project_matplotlibcs.ipynb",
      "provenance": [],
      "collapsed_sections": [],
      "authorship_tag": "ABX9TyOwHw+BM817oO4THns4bSWV",
      "include_colab_link": true
    },
    "kernelspec": {
      "name": "python3",
      "display_name": "Python 3"
    },
    "language_info": {
      "name": "python"
    }
  },
  "cells": [
    {
      "cell_type": "markdown",
      "metadata": {
        "id": "view-in-github",
        "colab_type": "text"
      },
      "source": [
        "<a href=\"https://colab.research.google.com/github/AkilDhanesh/YBI-Foundation-Internship/blob/master/week1_project_matplotlibcs.ipynb\" target=\"_parent\"><img src=\"https://colab.research.google.com/assets/colab-badge.svg\" alt=\"Open In Colab\"/></a>"
      ]
    },
    {
      "cell_type": "code",
      "execution_count": 1,
      "metadata": {
        "id": "3tYfj6bIPogv"
      },
      "outputs": [],
      "source": [
        "import numpy as np"
      ]
    },
    {
      "cell_type": "code",
      "source": [
        "x = np.linspace(0, 10, 100)"
      ],
      "metadata": {
        "id": "j5Srhyo7QNcy"
      },
      "execution_count": 2,
      "outputs": []
    },
    {
      "cell_type": "code",
      "source": [
        "y = np.cos(x)"
      ],
      "metadata": {
        "id": "KSSczxQqQQ5j"
      },
      "execution_count": 3,
      "outputs": []
    },
    {
      "cell_type": "code",
      "source": [
        "z = np.sin(x)"
      ],
      "metadata": {
        "id": "KC5sjBm4QS7s"
      },
      "execution_count": 4,
      "outputs": []
    },
    {
      "cell_type": "code",
      "source": [
        "data = 2 * np.random.random((10, 10))"
      ],
      "metadata": {
        "id": "9ZbW_8QjQUo8"
      },
      "execution_count": 5,
      "outputs": []
    },
    {
      "cell_type": "code",
      "source": [
        "data2 = 3 * np.random.random((10, 10))"
      ],
      "metadata": {
        "id": "hud6gVf1QWaM"
      },
      "execution_count": 6,
      "outputs": []
    },
    {
      "cell_type": "code",
      "source": [
        "Y, X = np.mgrid[-3:3:100j, -3:3:100j]"
      ],
      "metadata": {
        "id": "giHpxHCHQWvr"
      },
      "execution_count": 7,
      "outputs": []
    },
    {
      "cell_type": "code",
      "source": [
        "U = 1 + X** 2 + Y"
      ],
      "metadata": {
        "id": "4BIzom5uQW2H"
      },
      "execution_count": 11,
      "outputs": []
    },
    {
      "cell_type": "code",
      "source": [
        "V = 1 + X + Y**2"
      ],
      "metadata": {
        "id": "cUEl6RryQW5A"
      },
      "execution_count": 13,
      "outputs": []
    },
    {
      "cell_type": "code",
      "source": [
        "from matplotlib.cbook import get_sample_data"
      ],
      "metadata": {
        "id": "zSzWU0YDQW7q"
      },
      "execution_count": 14,
      "outputs": []
    },
    {
      "cell_type": "code",
      "source": [
        "img = np.load(get_sample_data('axes_grid/bivariate_normal.npy'))"
      ],
      "metadata": {
        "id": "W_fETfMiQW-r"
      },
      "execution_count": 15,
      "outputs": []
    },
    {
      "cell_type": "code",
      "source": [
        "import matplotlib.pyplot as plt"
      ],
      "metadata": {
        "id": "ViSTtPjFQXDI"
      },
      "execution_count": 16,
      "outputs": []
    },
    {
      "cell_type": "code",
      "source": [
        "fig = plt.figure()"
      ],
      "metadata": {
        "colab": {
          "base_uri": "https://localhost:8080/",
          "height": 34
        },
        "id": "O7MJ0fl7Q0V0",
        "outputId": "01012c18-03d4-4bfe-ce36-f788a7b4d2b6"
      },
      "execution_count": 17,
      "outputs": [
        {
          "output_type": "display_data",
          "data": {
            "text/plain": [
              "<Figure size 432x288 with 0 Axes>"
            ]
          },
          "metadata": {}
        }
      ]
    },
    {
      "cell_type": "code",
      "source": [
        "fig2 = plt.figure(figsize=plt.figaspect(2.0))"
      ],
      "metadata": {
        "colab": {
          "base_uri": "https://localhost:8080/",
          "height": 34
        },
        "id": "TiTVM48GQ0ws",
        "outputId": "f8df8314-eca3-4258-9c49-feb6fad299f8"
      },
      "execution_count": 18,
      "outputs": [
        {
          "output_type": "display_data",
          "data": {
            "text/plain": [
              "<Figure size 288x576 with 0 Axes>"
            ]
          },
          "metadata": {}
        }
      ]
    },
    {
      "cell_type": "code",
      "source": [
        "fig.add_axes()"
      ],
      "metadata": {
        "id": "fqEuwtXqQ0zh"
      },
      "execution_count": 19,
      "outputs": []
    },
    {
      "cell_type": "code",
      "source": [
        "ax1 = fig.add_subplot(221)"
      ],
      "metadata": {
        "id": "ZVDy_RS2Q020"
      },
      "execution_count": 20,
      "outputs": []
    },
    {
      "cell_type": "code",
      "source": [
        "ax3 = fig.add_subplot(212)"
      ],
      "metadata": {
        "id": "CdJLHa1KQ05c"
      },
      "execution_count": 21,
      "outputs": []
    },
    {
      "cell_type": "code",
      "source": [
        "fig3, axes = plt.subplots(nrows=2,ncols=2)"
      ],
      "metadata": {
        "colab": {
          "base_uri": "https://localhost:8080/",
          "height": 269
        },
        "id": "EvRlTE2lQ08z",
        "outputId": "07b6b22f-6cc8-4920-cc0d-6c9667892a33"
      },
      "execution_count": 22,
      "outputs": [
        {
          "output_type": "display_data",
          "data": {
            "text/plain": [
              "<Figure size 432x288 with 4 Axes>"
            ],
            "image/png": "[encoded data removed]"
          },
          "metadata": {
            "needs_background": "light"
          }
        }
      ]
    },
    {
      "cell_type": "code",
      "source": [
        "fig4, axes2 = plt.subplots(ncols=3)"
      ],
      "metadata": {
        "colab": {
          "base_uri": "https://localhost:8080/",
          "height": 269
        },
        "id": "aWQIGoAHQ1DK",
        "outputId": "e38efc00-7cc5-4b45-d543-a4869659e91e"
      },
      "execution_count": 23,
      "outputs": [
        {
          "output_type": "display_data",
          "data": {
            "text/plain": [
              "<Figure size 432x288 with 3 Axes>"
            ],
            "image/png": "[encoded data removed]"
          },
          "metadata": {
            "needs_background": "light"
          }
        }
      ]
    },
    {
      "cell_type": "code",
      "source": [
        "plt.savefig('foo.png')"
      ],
      "metadata": {
        "colab": {
          "base_uri": "https://localhost:8080/",
          "height": 34
        },
        "id": "R2O8uUtPQ1F6",
        "outputId": "34b5086d-e30b-419f-af41-cd57f0a73ddd"
      },
      "execution_count": 24,
      "outputs": [
        {
          "output_type": "display_data",
          "data": {
            "text/plain": [
              "<Figure size 432x288 with 0 Axes>"
            ]
          },
          "metadata": {}
        }
      ]
    },
    {
      "cell_type": "code",
      "source": [
        "plt.savefig('foo.png',  transparent=True)"
      ],
      "metadata": {
        "colab": {
          "base_uri": "https://localhost:8080/",
          "height": 34
        },
        "id": "7jwHWETERIeK",
        "outputId": "656697fb-6318-4571-aba6-67955d47cf0c"
      },
      "execution_count": 25,
      "outputs": [
        {
          "output_type": "display_data",
          "data": {
            "text/plain": [
              "<Figure size 432x288 with 0 Axes>"
            ]
          },
          "metadata": {}
        }
      ]
    },
    {
      "cell_type": "code",
      "source": [
        "plt.show()"
      ],
      "metadata": {
        "id": "dlZxwxouRIg7"
      },
      "execution_count": 26,
      "outputs": []
    },
    {
      "cell_type": "code",
      "source": [
        "fig, ax = plt.subplots()"
      ],
      "metadata": {
        "colab": {
          "base_uri": "https://localhost:8080/",
          "height": 269
        },
        "id": "anzeELjIRIkA",
        "outputId": "6a8a0965-f67c-4547-e2bd-b540e4c9298e"
      },
      "execution_count": 27,
      "outputs": [
        {
          "output_type": "display_data",
          "data": {
            "text/plain": [
              "<Figure size 432x288 with 1 Axes>"
            ],
            "image/png": "[encoded data removed]"
          },
          "metadata": {
            "needs_background": "light"
          }
        }
      ]
    },
    {
      "cell_type": "code",
      "source": [
        "im = ax.imshow(img, #Colormapped or RGB arrays\n",
        "      cmap= 'gist_earth', \n",
        "      interpolation= 'nearest',\n",
        "      vmin=-2,\n",
        "      vmax=2)"
      ],
      "metadata": {
        "id": "feQKg2MLRInj"
      },
      "execution_count": 27,
      "outputs": []
    },
    {
      "cell_type": "code",
      "source": [
        "axes2[0].pcolor(data2)"
      ],
      "metadata": {
        "colab": {
          "base_uri": "https://localhost:8080/",
          "height": 0
        },
        "id": "xitztyG0RIqY",
        "outputId": "427d874f-a8b9-4254-d581-4d21a8dc3408"
      },
      "execution_count": 28,
      "outputs": [
        {
          "output_type": "execute_result",
          "data": {
            "text/plain": [
              "<matplotlib.collections.PolyCollection at 0x7f2e8e83f8d0>"
            ]
          },
          "metadata": {},
          "execution_count": 28
        }
      ]
    },
    {
      "cell_type": "code",
      "source": [
        "axes2[0].pcolor(data2)"
      ],
      "metadata": {
        "colab": {
          "base_uri": "https://localhost:8080/",
          "height": 0
        },
        "id": "mD-z52gvRItN",
        "outputId": "ef72359f-21d0-4d48-a346-fdd32c81ded6"
      },
      "execution_count": 29,
      "outputs": [
        {
          "output_type": "execute_result",
          "data": {
            "text/plain": [
              "<matplotlib.collections.PolyCollection at 0x7f2e8e1ab5d0>"
            ]
          },
          "metadata": {},
          "execution_count": 29
        }
      ]
    },
    {
      "cell_type": "code",
      "source": [
        "CS = plt.contour(Y,X,U)"
      ],
      "metadata": {
        "colab": {
          "base_uri": "https://localhost:8080/",
          "height": 269
        },
        "id": "1UR9WLLkRIwP",
        "outputId": "11ab6bc1-7ad0-4079-876b-c54e0954905a"
      },
      "execution_count": 30,
      "outputs": [
        {
          "output_type": "display_data",
          "data": {
            "text/plain": [
              "<Figure size 432x288 with 1 Axes>"
            ],
            "image/png": "[encoded data removed]"
          },
          "metadata": {
            "needs_background": "light"
          }
        }
      ]
    },
    {
      "cell_type": "code",
      "source": [
        "axes2[2]= ax.clabel(CS)"
      ],
      "metadata": {
        "id": "qqMC3rUERIzn"
      },
      "execution_count": 32,
      "outputs": []
    },
    {
      "cell_type": "code",
      "source": [
        "axes[0,1].arrow(0,0,0.5,0.5)"
      ],
      "metadata": {
        "colab": {
          "base_uri": "https://localhost:8080/",
          "height": 0
        },
        "id": "hqDMBNiERlsO",
        "outputId": "c382468b-673e-4aa6-da5d-5267c20bf532"
      },
      "execution_count": 33,
      "outputs": [
        {
          "output_type": "execute_result",
          "data": {
            "text/plain": [
              "<matplotlib.patches.FancyArrow at 0x7f2e8bced310>"
            ]
          },
          "metadata": {},
          "execution_count": 33
        }
      ]
    },
    {
      "cell_type": "code",
      "source": [
        "axes[1,1].quiver(y,z)"
      ],
      "metadata": {
        "colab": {
          "base_uri": "https://localhost:8080/",
          "height": 0
        },
        "id": "4ESkZg9VRlvG",
        "outputId": "b1bd0e0a-0d56-43f4-8eca-73a7a3143059"
      },
      "execution_count": 34,
      "outputs": [
        {
          "output_type": "execute_result",
          "data": {
            "text/plain": [
              "<matplotlib.quiver.Quiver at 0x7f2e8bced990>"
            ]
          },
          "metadata": {},
          "execution_count": 34
        }
      ]
    },
    {
      "cell_type": "code",
      "source": [
        "axes[0,1].streamplot(X,Y,U,V)"
      ],
      "metadata": {
        "colab": {
          "base_uri": "https://localhost:8080/",
          "height": 0
        },
        "id": "JFP2eGJhRlyX",
        "outputId": "189983f6-3609-4ae4-a631-d51abe760dc4"
      },
      "execution_count": 35,
      "outputs": [
        {
          "output_type": "execute_result",
          "data": {
            "text/plain": [
              "<matplotlib.streamplot.StreamplotSet at 0x7f2e8bcb57d0>"
            ]
          },
          "metadata": {},
          "execution_count": 35
        }
      ]
    },
    {
      "cell_type": "code",
      "source": [
        "ax1.hist(y)"
      ],
      "metadata": {
        "colab": {
          "base_uri": "https://localhost:8080/",
          "height": 0
        },
        "id": "UJyC1kjqRl2E",
        "outputId": "c78d7138-d52e-4f3c-8464-c393a4a5fe42"
      },
      "execution_count": 36,
      "outputs": [
        {
          "output_type": "execute_result",
          "data": {
            "text/plain": [
              "(array([26.,  8.,  7.,  6.,  6.,  6.,  6.,  7.,  8., 20.]),\n",
              " array([-9.99947166e-01, -7.99952450e-01, -5.99957733e-01, -3.99963016e-01,\n",
              "        -1.99968300e-01,  2.64169119e-05,  2.00021134e-01,  4.00015850e-01,\n",
              "         6.00010567e-01,  8.00005283e-01,  1.00000000e+00]),\n",
              " <a list of 10 Patch objects>)"
            ]
          },
          "metadata": {},
          "execution_count": 36
        }
      ]
    },
    {
      "cell_type": "code",
      "source": [
        "ax3.boxplot(y)"
      ],
      "metadata": {
        "colab": {
          "base_uri": "https://localhost:8080/",
          "height": 0
        },
        "id": "gzjivxWgRl6h",
        "outputId": "0e7322b1-124f-47bd-c0f3-2273b7938c73"
      },
      "execution_count": 37,
      "outputs": [
        {
          "output_type": "execute_result",
          "data": {
            "text/plain": [
              "{'boxes': [<matplotlib.lines.Line2D at 0x7f2e8bbe5c10>],\n",
              " 'caps': [<matplotlib.lines.Line2D at 0x7f2e8bbd2a50>,\n",
              "  <matplotlib.lines.Line2D at 0x7f2e8bbee550>],\n",
              " 'fliers': [<matplotlib.lines.Line2D at 0x7f2e8bbeef90>],\n",
              " 'means': [],\n",
              " 'medians': [<matplotlib.lines.Line2D at 0x7f2e8bbeea50>],\n",
              " 'whiskers': [<matplotlib.lines.Line2D at 0x7f2e8bbee210>,\n",
              "  <matplotlib.lines.Line2D at 0x7f2e8bcb5710>]}"
            ]
          },
          "metadata": {},
          "execution_count": 37
        }
      ]
    },
    {
      "cell_type": "code",
      "source": [
        " ax3.violinplot(z)"
      ],
      "metadata": {
        "colab": {
          "base_uri": "https://localhost:8080/",
          "height": 0
        },
        "id": "8Nu1fQ8uRl_q",
        "outputId": "aa2a622d-cd3c-41fe-f444-e2fd7c9d718f"
      },
      "execution_count": 38,
      "outputs": [
        {
          "output_type": "execute_result",
          "data": {
            "text/plain": [
              "{'bodies': [<matplotlib.collections.PolyCollection at 0x7f2e8bb78fd0>],\n",
              " 'cbars': <matplotlib.collections.LineCollection at 0x7f2e8bbe5090>,\n",
              " 'cmaxes': <matplotlib.collections.LineCollection at 0x7f2e8bb78e90>,\n",
              " 'cmins': <matplotlib.collections.LineCollection at 0x7f2e8bbe5790>}"
            ]
          },
          "metadata": {},
          "execution_count": 38
        }
      ]
    },
    {
      "cell_type": "code",
      "source": [
        "x = [1,2,3,4]"
      ],
      "metadata": {
        "id": "kp40ZKThSklk"
      },
      "execution_count": 51,
      "outputs": []
    },
    {
      "cell_type": "code",
      "source": [
        "y = [10,20,25,30]"
      ],
      "metadata": {
        "id": "DVW6UYuaSkoP"
      },
      "execution_count": 53,
      "outputs": []
    },
    {
      "cell_type": "code",
      "source": [
        "fig = plt.figure()"
      ],
      "metadata": {
        "colab": {
          "base_uri": "https://localhost:8080/",
          "height": 34
        },
        "id": "HG7nYYsHSkvF",
        "outputId": "d480b833-3092-49f3-e89f-d09d1c20458e"
      },
      "execution_count": 54,
      "outputs": [
        {
          "output_type": "display_data",
          "data": {
            "text/plain": [
              "<Figure size 432x288 with 0 Axes>"
            ]
          },
          "metadata": {}
        }
      ]
    },
    {
      "cell_type": "code",
      "source": [
        "ax = fig.add_subplot(111)"
      ],
      "metadata": {
        "id": "3aaVvkHHSkx3"
      },
      "execution_count": 56,
      "outputs": []
    },
    {
      "cell_type": "code",
      "source": [
        "ax.plot(x, y, color= 'lightblue', linewidth=3)"
      ],
      "metadata": {
        "colab": {
          "base_uri": "https://localhost:8080/",
          "height": 0
        },
        "id": "H8JxYRZ2Sk1A",
        "outputId": "d0b88c0c-1751-4db6-d9f7-959d08d64739"
      },
      "execution_count": 57,
      "outputs": [
        {
          "output_type": "execute_result",
          "data": {
            "text/plain": [
              "[<matplotlib.lines.Line2D at 0x7f2e8b9aa850>]"
            ]
          },
          "metadata": {},
          "execution_count": 57
        }
      ]
    },
    {
      "cell_type": "code",
      "source": [
        "ax.scatter([2,4,6],\n",
        "          [5,15,25],\n",
        "          color= 'darkgreen',\n",
        "          marker= '^' )"
      ],
      "metadata": {
        "colab": {
          "base_uri": "https://localhost:8080/",
          "height": 0
        },
        "id": "mIIuI6WdSk4Z",
        "outputId": "e1960160-c47d-48b1-bea1-0644a079c062"
      },
      "execution_count": 58,
      "outputs": [
        {
          "output_type": "execute_result",
          "data": {
            "text/plain": [
              "<matplotlib.collections.PathCollection at 0x7f2e8b9aa0d0>"
            ]
          },
          "metadata": {},
          "execution_count": 58
        }
      ]
    },
    {
      "cell_type": "code",
      "source": [
        "ax.set_xlim(1, 6.5)"
      ],
      "metadata": {
        "colab": {
          "base_uri": "https://localhost:8080/",
          "height": 0
        },
        "id": "ni-LHTyJTZFG",
        "outputId": "a005b599-f006-41d3-cf65-f8e1e3832a73"
      },
      "execution_count": 59,
      "outputs": [
        {
          "output_type": "execute_result",
          "data": {
            "text/plain": [
              "(1.0, 6.5)"
            ]
          },
          "metadata": {},
          "execution_count": 59
        }
      ]
    },
    {
      "cell_type": "code",
      "source": [
        "plt.savefig('foo.png' )"
      ],
      "metadata": {
        "colab": {
          "base_uri": "https://localhost:8080/",
          "height": 34
        },
        "id": "1NHYlLiQTZHo",
        "outputId": "3f2bb6e8-319b-45cf-b50c-256d04ee3a95"
      },
      "execution_count": 60,
      "outputs": [
        {
          "output_type": "display_data",
          "data": {
            "text/plain": [
              "<Figure size 432x288 with 0 Axes>"
            ]
          },
          "metadata": {}
        }
      ]
    },
    {
      "cell_type": "code",
      "source": [
        "plt.show()"
      ],
      "metadata": {
        "id": "u1U66Sf-TZrb"
      },
      "execution_count": 61,
      "outputs": []
    },
    {
      "cell_type": "code",
      "source": [
        "plt.cla()"
      ],
      "metadata": {
        "colab": {
          "base_uri": "https://localhost:8080/",
          "height": 269
        },
        "id": "GCa74i9eTZv-",
        "outputId": "f1878ef3-0b42-4edb-feca-75e33d94070f"
      },
      "execution_count": 62,
      "outputs": [
        {
          "output_type": "display_data",
          "data": {
            "text/plain": [
              "<Figure size 432x288 with 1 Axes>"
            ],
            "image/png": "[encoded data removed]"
          },
          "metadata": {
            "needs_background": "light"
          }
        }
      ]
    },
    {
      "cell_type": "code",
      "source": [
        "plt.clf()"
      ],
      "metadata": {
        "colab": {
          "base_uri": "https://localhost:8080/",
          "height": 34
        },
        "id": "_LfS9H7BTida",
        "outputId": "350ffb10-9541-4265-a1d0-422ffbbe2d4d"
      },
      "execution_count": 63,
      "outputs": [
        {
          "output_type": "display_data",
          "data": {
            "text/plain": [
              "<Figure size 432x288 with 0 Axes>"
            ]
          },
          "metadata": {}
        }
      ]
    },
    {
      "cell_type": "code",
      "source": [
        "plt.close()"
      ],
      "metadata": {
        "id": "D2RrfXkBTigK"
      },
      "execution_count": 64,
      "outputs": []
    },
    {
      "cell_type": "code",
      "source": [
        "ax.margins(x=0.0,y=0.1)"
      ],
      "metadata": {
        "id": "4fgIn_mBTmGK"
      },
      "execution_count": 65,
      "outputs": []
    },
    {
      "cell_type": "code",
      "source": [
        "ax.axis('equal')"
      ],
      "metadata": {
        "colab": {
          "base_uri": "https://localhost:8080/",
          "height": 0
        },
        "id": "zyk0INNvTmI5",
        "outputId": "f265ee36-7034-4592-d25a-5dfd80f8dd4d"
      },
      "execution_count": 66,
      "outputs": [
        {
          "output_type": "execute_result",
          "data": {
            "text/plain": [
              "(1.0, 6.0, 2.5, 32.5)"
            ]
          },
          "metadata": {},
          "execution_count": 66
        }
      ]
    },
    {
      "cell_type": "code",
      "source": [
        " ax.set(xlim=[0,10.5],ylim=[-1.5,1.5])"
      ],
      "metadata": {
        "colab": {
          "base_uri": "https://localhost:8080/",
          "height": 0
        },
        "id": "PpbW2NGRTmMc",
        "outputId": "87f5b509-acb5-47e7-be89-4a37608636ad"
      },
      "execution_count": 67,
      "outputs": [
        {
          "output_type": "execute_result",
          "data": {
            "text/plain": [
              "[(-1.5, 1.5), (0.0, 10.5)]"
            ]
          },
          "metadata": {},
          "execution_count": 67
        }
      ]
    },
    {
      "cell_type": "code",
      "source": [
        "ax.set_xlim(0,10.5)"
      ],
      "metadata": {
        "colab": {
          "base_uri": "https://localhost:8080/",
          "height": 0
        },
        "id": "Vxn6ptWDTvPS",
        "outputId": "10fbb2b3-f8a0-49a7-c2a3-639f3298850a"
      },
      "execution_count": 68,
      "outputs": [
        {
          "output_type": "execute_result",
          "data": {
            "text/plain": [
              "(0.0, 10.5)"
            ]
          },
          "metadata": {},
          "execution_count": 68
        }
      ]
    }
  ]
}